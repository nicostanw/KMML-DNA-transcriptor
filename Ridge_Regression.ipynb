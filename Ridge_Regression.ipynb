{
 "cells": [
  {
   "cell_type": "code",
   "execution_count": 3,
   "metadata": {},
   "outputs": [],
   "source": [
    "import numpy as np \n",
    "from scipy.linalg import solve\n",
    "from sklearn.base import BaseEstimator, ClassifierMixin"
   ]
  },
  {
   "cell_type": "code",
   "execution_count": 4,
   "metadata": {},
   "outputs": [],
   "source": [
    "def Ridge_Regresssion(X_train,y_train,lbd,weight=False):\n",
    "    n=y_train.shape[0]\n",
    "    d=X_train.shape[1]\n",
    "    if not(weight):\n",
    "        A=(X_train.T.dot(X_train))/n+lbd*np.eye(d)\n",
    "        B=X_train.T.dot(y_train)/n\n",
    "        theta=solve(A,B)\n",
    "        return theta\n",
    "    else:\n",
    "        w1=(y_train==1).mean()\n",
    "        w0=1-w1\n",
    "        w=np.where(y_train==1,w1,w0)\n",
    "        W=np.diag(w)\n",
    "        A=(X_train.T.dot(W.dot(X_train)))/n+lbd*np.eye(d)\n",
    "        B=X_train.T.dot(W.dot(y_train))/n\n",
    "        theta=solve(A,B)\n",
    "        return theta"
   ]
  },
  {
   "cell_type": "code",
   "execution_count": 5,
   "metadata": {},
   "outputs": [],
   "source": [
    "class LinearRR(BaseEstimator,ClassifierMixin):\n",
    "    def __init__(self,lbd=1,weight=False):\n",
    "        self.lbd=lbd\n",
    "        self.weight=weight\n",
    "        \n",
    "    def fit(self,X,y):\n",
    "        self.classes_ = np.unique(y)\n",
    "        \n",
    "        self.theta=Ridge_Regresssion(X,y,self.lbd,self.weight)\n",
    "        return self\n",
    "    def decision_function(self,X):\n",
    "        return X.dot(self.theta)\n",
    "        \n",
    "    def predict(self,X,y=None):\n",
    "        scores=self.decision_function(X)\n",
    "        if len(scores.shape) == 1:\n",
    "            indices = (scores > 0).astype(np.int)\n",
    "        else:\n",
    "            indices = scores.argmax(axis=1)\n",
    "        return self.classes_[indices]\n",
    "   \n",
    "    def get_params(self, deep=True):\n",
    "    \n",
    "        return {\"lbd\": self.lbd,\"weight\":self.weight}\n",
    "\n",
    "    def set_params(self, **parameters):\n",
    "        for parameter, value in parameters.items():\n",
    "            setattr(self, parameter, value)\n",
    "        return self"
   ]
  },
  {
   "cell_type": "code",
   "execution_count": null,
   "metadata": {},
   "outputs": [],
   "source": []
  }
 ],
 "metadata": {
  "kernelspec": {
   "display_name": "Python 3",
   "language": "python",
   "name": "python3"
  },
  "language_info": {
   "codemirror_mode": {
    "name": "ipython",
    "version": 3
   },
   "file_extension": ".py",
   "mimetype": "text/x-python",
   "name": "python",
   "nbconvert_exporter": "python",
   "pygments_lexer": "ipython3",
   "version": "3.8.5"
  }
 },
 "nbformat": 4,
 "nbformat_minor": 4
}
